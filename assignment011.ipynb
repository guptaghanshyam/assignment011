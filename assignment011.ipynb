{
 "cells": [
  {
   "cell_type": "markdown",
   "metadata": {},
   "source": [
    "Q1. Which function is used to open a file? What are the different modes of opening a file? Explain each mode\n",
    "of file opening.\n"
   ]
  },
  {
   "cell_type": "markdown",
   "metadata": {},
   "source": [
    "Ans:the function used to open a file is typically called a 'open().the 'open()' function allow you to interact with flies on your computer, such as reading data to a file , writing data to a file or both.\n",
    "\n",
    "differents types of opening a files are as follows:\n",
    "\n",
    "1.Read Mode ('r'):This mode is used for reading data feom a file. if the files does not exit, it will raise a 'FileNotFounderror' error.\n",
    "\n",
    "2.Write Mode('w'):This mode is used to write data to a file .if the files doesn't exits it will created a new file.\n",
    "\n",
    "3.Appened Mode ('a'):this mode is used to append data to the file.if the files does not exit , a new file will be created.\n"
   ]
  },
  {
   "cell_type": "markdown",
   "metadata": {},
   "source": [
    "Q2. Why close() function is used? Why is it important to close a file?\n"
   ]
  },
  {
   "cell_type": "markdown",
   "metadata": {},
   "source": [
    "Ans:the 'close()' function is used to close the file in programming. when you opem a file using the 'open' function, the file remains open in the background until you explicitly close it throughlt using 'close()' function.\n",
    "\n",
    "it is essential to close a file after you have finished reading from it or wirting to it.failing to close a file properly can leads to various issues, and here are the reasons why it is important to close a file:\n",
    "\n",
    "1.Resource management\n",
    "\n",
    "2.Data integrity\n",
    "\n",
    "3.File locking\n",
    "\n",
    "4.Operating system limit\n",
    "\n",
    "5.file corruption"
   ]
  },
  {
   "cell_type": "markdown",
   "metadata": {},
   "source": [
    "Q3. Write a python program to create a text file. Write ‘I want to become a Data Scientist’ in that file. Then\n",
    "close the file. Open this file and read the content of the file."
   ]
  },
  {
   "cell_type": "code",
   "execution_count": 3,
   "metadata": {},
   "outputs": [
    {
     "name": "stdout",
     "output_type": "stream",
     "text": [
      "I want to become a Data Scientist\n"
     ]
    }
   ],
   "source": [
    "def create_and_write_file(file_name, content):\n",
    "    with open(file_name, 'w') as file:\n",
    "        file.write(content)\n",
    "\n",
    "def read_file(file_name):\n",
    "    with open(file_name, 'r') as file:\n",
    "        content = file.read()\n",
    "        return content\n",
    "\n",
    "file_name = \"data_scientist.txt\"\n",
    "content_to_write = \"I want to become a Data Scientist\"\n",
    "\n",
    "create_and_write_file(file_name, content_to_write)\n",
    "\n",
    "# Reading the file\n",
    "read_content = read_file(file_name)\n",
    "print(read_content)"
   ]
  },
  {
   "cell_type": "markdown",
   "metadata": {},
   "source": [
    "Q4. Explain the following with python code: read(), readline() and readlines()."
   ]
  },
  {
   "cell_type": "markdown",
   "metadata": {},
   "source": [
    "1.'read()': the 'read()' method is used to read the entire content of a file as a singlr string."
   ]
  },
  {
   "cell_type": "code",
   "execution_count": 9,
   "metadata": {},
   "outputs": [
    {
     "name": "stdout",
     "output_type": "stream",
     "text": [
      "hello\n",
      "world\n",
      "\n",
      "\n",
      "\n"
     ]
    }
   ],
   "source": [
    "with open('example.txt','r') as file:\n",
    "    content = file.read()\n",
    "    print(content)"
   ]
  },
  {
   "cell_type": "markdown",
   "metadata": {},
   "source": [
    "2.'readline()':the 'readline()' method read asingle line frm the file, including the newline character at the end."
   ]
  },
  {
   "cell_type": "code",
   "execution_count": 10,
   "metadata": {},
   "outputs": [
    {
     "name": "stdout",
     "output_type": "stream",
     "text": [
      "Line 1: hello\n",
      "\n",
      "Line 2: world\n",
      "\n"
     ]
    }
   ],
   "source": [
    "with open('example.txt', 'r') as file:\n",
    "    line1 = file.readline()\n",
    "    line2 = file.readline()\n",
    "    print(\"Line 1:\", line1)\n",
    "    print(\"Line 2:\", line2)"
   ]
  },
  {
   "cell_type": "markdown",
   "metadata": {},
   "source": [
    "3.'readlines()':the 'readlines()' method read all the lines from the file and return them as a list of strings."
   ]
  },
  {
   "cell_type": "code",
   "execution_count": 12,
   "metadata": {},
   "outputs": [
    {
     "name": "stdout",
     "output_type": "stream",
     "text": [
      "['hello\\n', 'world\\n', '\\n', '\\n']\n"
     ]
    }
   ],
   "source": [
    "with open('example.txt', 'r') as file:\n",
    "    lines = file.readlines()\n",
    "    print(lines)\n",
    "    "
   ]
  },
  {
   "cell_type": "markdown",
   "metadata": {},
   "source": [
    "\n",
    "Q5. Explain why with statement is used with open(). What is the advantage of using with statement and\n",
    "open() together?\n"
   ]
  },
  {
   "cell_type": "markdown",
   "metadata": {},
   "source": [
    "Ans:The with statement in Python is used in conjunction with the open() function when working with files. It provides a more elegant and efficient way of handling files by automatically managing the file's opening and closing operations. The with statement is specifically designed to work with objects that support the context management protocol, and file objects in Python are one such type of object.\n",
    "1.Automatic resource management\n",
    "\n",
    "2.simpler syntax\n",
    "\n",
    "3.exception safety\n",
    "\n",
    "4.no need to remember to close the file\n",
    "\n"
   ]
  },
  {
   "cell_type": "code",
   "execution_count": 14,
   "metadata": {},
   "outputs": [],
   "source": [
    "file = open('example.txt','r')\n",
    "try:\n",
    "    content = file.read()\n",
    "\n",
    "finally:\n",
    "    file.close()\n",
    "\n",
    "with open('example.txt','r') as file:\n",
    "    content=file.read()"
   ]
  },
  {
   "cell_type": "code",
   "execution_count": null,
   "metadata": {},
   "outputs": [],
   "source": []
  }
 ],
 "metadata": {
  "kernelspec": {
   "display_name": "base",
   "language": "python",
   "name": "python3"
  },
  "language_info": {
   "codemirror_mode": {
    "name": "ipython",
    "version": 3
   },
   "file_extension": ".py",
   "mimetype": "text/x-python",
   "name": "python",
   "nbconvert_exporter": "python",
   "pygments_lexer": "ipython3",
   "version": "3.10.9"
  },
  "orig_nbformat": 4
 },
 "nbformat": 4,
 "nbformat_minor": 2
}
